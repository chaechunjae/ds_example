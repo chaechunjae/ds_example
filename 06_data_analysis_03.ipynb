{
 "cells": [
  {
   "cell_type": "code",
   "execution_count": 1,
   "metadata": {},
   "outputs": [
    {
     "name": "stdout",
     "output_type": "stream",
     "text": [
      "Dash is running on http://127.0.0.1:8050/\n",
      "\n",
      " * Serving Flask app 'Naver Shopping Trend'\n",
      " * Debug mode: on\n"
     ]
    }
   ],
   "source": [
    "import dash\n",
    "from dash.dependencies import Input, Output\n",
    "from dash import dcc\n",
    "from dash import html\n",
    "import pandas as pd\n",
    "\n",
    "# dashboard app\n",
    "app = dash.Dash(\"Naver Shopping Trend\", external_stylesheets=['https://codepen.io/chriddyp/pen/bWLwgP.css'])\n",
    "\n",
    "# app layout -> html 수정\n",
    "app.layout = html.Div([\n",
    "    dcc.Dropdown(\n",
    "        id='my-dropdown',\n",
    "        options=[\n",
    "            # 드롭다운 메뉴 만들기\n",
    "            {\"label\": \"Apple\", \"value\": \"./naver_shopping_apple.xlsx\"},\n",
    "            {\"label\": \"Samsung\", \"value\": \"./naver_shopping_samsung.xlsx\"},\n",
    "            {\"label\": \"LG\", \"value\": \"./naver_shopping_lg.xlsx\"}\n",
    "\n",
    "        ],\n",
    "        value= \"./naver_shopping_apple.xlsx\"# 기본값 세팅하기\n",
    "    ),\n",
    "    dcc.Graph(id='my-graph')\n",
    "], style={'width': '600'})\n",
    "\n",
    "@app.callback(Output('my-graph', 'figure'), [Input('my-dropdown', 'value')])\n",
    "# 대쉬가 실제로 실행하는 그래프를 update_graph 함수로 정의\n",
    "def update_graph(selected_dropdwon_value):\n",
    "    df = pd.read_excel(selected_dropdwon_value) #.sort_values(by=\"published_date\")\n",
    "\n",
    "    return {\n",
    "        \"data\": [\n",
    "            # dash 가 보여줄 dashboard의 그래프를 dict 형태로 지정\n",
    "            {'x':df.index,\n",
    "            'y':df[\"No._of_reviews\"]}\n",
    "        ],\n",
    "        'layout': {'margin': {'1': 40, 'r': 0, 't': 20, 'b': 30}}\n",
    "    }\n",
    "\n",
    "# dash app 실행\n",
    "app.run_server(debug=True, use_reloader=False)"
   ]
  },
  {
   "cell_type": "code",
   "execution_count": null,
   "metadata": {},
   "outputs": [],
   "source": []
  }
 ],
 "metadata": {
  "kernelspec": {
   "display_name": "ml",
   "language": "python",
   "name": "python3"
  },
  "language_info": {
   "codemirror_mode": {
    "name": "ipython",
    "version": 3
   },
   "file_extension": ".py",
   "mimetype": "text/x-python",
   "name": "python",
   "nbconvert_exporter": "python",
   "pygments_lexer": "ipython3",
   "version": "3.10.8"
  },
  "orig_nbformat": 4,
  "vscode": {
   "interpreter": {
    "hash": "c36032336976e92e450f355ea04f20aaa4c695f9604aa75450ca9cce065c58ae"
   }
  }
 },
 "nbformat": 4,
 "nbformat_minor": 2
}
